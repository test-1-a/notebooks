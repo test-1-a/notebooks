{
 "cells": [
  {
   "cell_type": "markdown",
   "metadata": {},
   "source": [
    "# Introduction: IPython Widgets\n",
    "\n",
    "In this notebook, we will get an introduction to IPython widgets. These are tools that allow us to build interactivity into our notebooks often with a single line of code. These widgets are very useful for data exploration and analysis, for example, selecting certain data or updating charts. In effect, Widgets allow you to make Jupyter Notebooks into an interactive dashboard instead of a static document."
   ]
  },
  {
   "cell_type": "markdown",
   "metadata": {},
   "source": [
    "Run the below cell if needed. You can also do this from the command line. If in Jupyter lab, [check out the instructions for that environment](https://ipywidgets.readthedocs.io/en/stable/user_install.html). "
   ]
  },
  {
   "cell_type": "code",
   "execution_count": 1,
   "metadata": {
    "ExecuteTime": {
     "end_time": "2019-02-11T21:59:15.249992Z",
     "start_time": "2019-02-11T21:59:12.848653Z"
    }
   },
   "outputs": [
    {
     "name": "stdout",
     "output_type": "stream",
     "text": [
      "zsh:1: command not found: jupyter\n"
     ]
    }
   ],
   "source": [
    "!pip install -U -q ipywidgets\n",
    "!jupyter nbextension enable --py widgetsnbextension"
   ]
  },
  {
   "cell_type": "code",
   "execution_count": 2,
   "metadata": {},
   "outputs": [
    {
     "name": "stdout",
     "output_type": "stream",
     "text": [
      "Requirement already satisfied: numpy in /Library/Frameworks/Python.framework/Versions/3.10/lib/python3.10/site-packages (1.23.5)\n",
      "Requirement already satisfied: pandas in /Library/Frameworks/Python.framework/Versions/3.10/lib/python3.10/site-packages (1.5.2)\n",
      "Requirement already satisfied: numpy>=1.21.0 in /Library/Frameworks/Python.framework/Versions/3.10/lib/python3.10/site-packages (from pandas) (1.23.5)\n",
      "Requirement already satisfied: python-dateutil>=2.8.1 in /Library/Frameworks/Python.framework/Versions/3.10/lib/python3.10/site-packages (from pandas) (2.8.2)\n",
      "Requirement already satisfied: pytz>=2020.1 in /Library/Frameworks/Python.framework/Versions/3.10/lib/python3.10/site-packages (from pandas) (2022.6)\n",
      "Requirement already satisfied: six>=1.5 in /Library/Frameworks/Python.framework/Versions/3.10/lib/python3.10/site-packages (from python-dateutil>=2.8.1->pandas) (1.16.0)\n",
      "Requirement already satisfied: scipy in /Library/Frameworks/Python.framework/Versions/3.10/lib/python3.10/site-packages (1.9.3)\n",
      "Requirement already satisfied: numpy<1.26.0,>=1.18.5 in /Library/Frameworks/Python.framework/Versions/3.10/lib/python3.10/site-packages (from scipy) (1.23.5)\n",
      "Requirement already satisfied: plotly in /Library/Frameworks/Python.framework/Versions/3.10/lib/python3.10/site-packages (5.11.0)\n",
      "Requirement already satisfied: tenacity>=6.2.0 in /Library/Frameworks/Python.framework/Versions/3.10/lib/python3.10/site-packages (from plotly) (8.1.0)\n",
      "Requirement already satisfied: cufflinks in /Library/Frameworks/Python.framework/Versions/3.10/lib/python3.10/site-packages (0.17.3)\n",
      "Requirement already satisfied: numpy>=1.9.2 in /Library/Frameworks/Python.framework/Versions/3.10/lib/python3.10/site-packages (from cufflinks) (1.23.5)\n",
      "Requirement already satisfied: pandas>=0.19.2 in /Library/Frameworks/Python.framework/Versions/3.10/lib/python3.10/site-packages (from cufflinks) (1.5.2)\n",
      "Requirement already satisfied: plotly>=4.1.1 in /Library/Frameworks/Python.framework/Versions/3.10/lib/python3.10/site-packages (from cufflinks) (5.11.0)\n",
      "Requirement already satisfied: six>=1.9.0 in /Library/Frameworks/Python.framework/Versions/3.10/lib/python3.10/site-packages (from cufflinks) (1.16.0)\n",
      "Requirement already satisfied: colorlover>=0.2.1 in /Library/Frameworks/Python.framework/Versions/3.10/lib/python3.10/site-packages (from cufflinks) (0.3.0)\n",
      "Requirement already satisfied: setuptools>=34.4.1 in /Library/Frameworks/Python.framework/Versions/3.10/lib/python3.10/site-packages (from cufflinks) (58.1.0)\n",
      "Requirement already satisfied: ipython>=5.3.0 in /Users/james/Library/Python/3.10/lib/python/site-packages (from cufflinks) (8.7.0)\n",
      "Requirement already satisfied: ipywidgets>=7.0.0 in /Library/Frameworks/Python.framework/Versions/3.10/lib/python3.10/site-packages (from cufflinks) (8.0.4)\n",
      "Requirement already satisfied: pexpect>4.3 in /Users/james/Library/Python/3.10/lib/python/site-packages (from ipython>=5.3.0->cufflinks) (4.8.0)\n",
      "Requirement already satisfied: appnope in /Users/james/Library/Python/3.10/lib/python/site-packages (from ipython>=5.3.0->cufflinks) (0.1.3)\n",
      "Requirement already satisfied: prompt-toolkit<3.1.0,>=3.0.11 in /Users/james/Library/Python/3.10/lib/python/site-packages (from ipython>=5.3.0->cufflinks) (3.0.33)\n",
      "Requirement already satisfied: matplotlib-inline in /Users/james/Library/Python/3.10/lib/python/site-packages (from ipython>=5.3.0->cufflinks) (0.1.6)\n",
      "Requirement already satisfied: traitlets>=5 in /Users/james/Library/Python/3.10/lib/python/site-packages (from ipython>=5.3.0->cufflinks) (5.6.0)\n",
      "Requirement already satisfied: decorator in /Users/james/Library/Python/3.10/lib/python/site-packages (from ipython>=5.3.0->cufflinks) (5.1.1)\n",
      "Requirement already satisfied: backcall in /Users/james/Library/Python/3.10/lib/python/site-packages (from ipython>=5.3.0->cufflinks) (0.2.0)\n",
      "Requirement already satisfied: pickleshare in /Users/james/Library/Python/3.10/lib/python/site-packages (from ipython>=5.3.0->cufflinks) (0.7.5)\n",
      "Requirement already satisfied: pygments>=2.4.0 in /Users/james/Library/Python/3.10/lib/python/site-packages (from ipython>=5.3.0->cufflinks) (2.13.0)\n",
      "Requirement already satisfied: jedi>=0.16 in /Users/james/Library/Python/3.10/lib/python/site-packages (from ipython>=5.3.0->cufflinks) (0.18.2)\n",
      "Requirement already satisfied: stack-data in /Users/james/Library/Python/3.10/lib/python/site-packages (from ipython>=5.3.0->cufflinks) (0.6.2)\n",
      "Requirement already satisfied: jupyterlab-widgets~=3.0 in /Users/james/Library/Python/3.10/lib/python/site-packages (from ipywidgets>=7.0.0->cufflinks) (3.0.3)\n",
      "Requirement already satisfied: ipykernel>=4.5.1 in /Users/james/Library/Python/3.10/lib/python/site-packages (from ipywidgets>=7.0.0->cufflinks) (6.18.2)\n",
      "Requirement already satisfied: widgetsnbextension~=4.0 in /Users/james/Library/Python/3.10/lib/python/site-packages (from ipywidgets>=7.0.0->cufflinks) (4.0.3)\n",
      "Requirement already satisfied: pytz>=2020.1 in /Library/Frameworks/Python.framework/Versions/3.10/lib/python3.10/site-packages (from pandas>=0.19.2->cufflinks) (2022.6)\n",
      "Requirement already satisfied: python-dateutil>=2.8.1 in /Library/Frameworks/Python.framework/Versions/3.10/lib/python3.10/site-packages (from pandas>=0.19.2->cufflinks) (2.8.2)\n",
      "Requirement already satisfied: tenacity>=6.2.0 in /Library/Frameworks/Python.framework/Versions/3.10/lib/python3.10/site-packages (from plotly>=4.1.1->cufflinks) (8.1.0)\n",
      "Requirement already satisfied: nest-asyncio in /Users/james/Library/Python/3.10/lib/python/site-packages (from ipykernel>=4.5.1->ipywidgets>=7.0.0->cufflinks) (1.5.6)\n",
      "Requirement already satisfied: debugpy>=1.0 in /Users/james/Library/Python/3.10/lib/python/site-packages (from ipykernel>=4.5.1->ipywidgets>=7.0.0->cufflinks) (1.6.4)\n",
      "Requirement already satisfied: comm>=0.1 in /Users/james/Library/Python/3.10/lib/python/site-packages (from ipykernel>=4.5.1->ipywidgets>=7.0.0->cufflinks) (0.1.1)\n",
      "Requirement already satisfied: packaging in /Users/james/Library/Python/3.10/lib/python/site-packages (from ipykernel>=4.5.1->ipywidgets>=7.0.0->cufflinks) (21.3)\n",
      "Requirement already satisfied: pyzmq>=17 in /Users/james/Library/Python/3.10/lib/python/site-packages (from ipykernel>=4.5.1->ipywidgets>=7.0.0->cufflinks) (24.0.1)\n",
      "Requirement already satisfied: jupyter-client>=6.1.12 in /Users/james/Library/Python/3.10/lib/python/site-packages (from ipykernel>=4.5.1->ipywidgets>=7.0.0->cufflinks) (7.4.7)\n",
      "Requirement already satisfied: psutil in /Users/james/Library/Python/3.10/lib/python/site-packages (from ipykernel>=4.5.1->ipywidgets>=7.0.0->cufflinks) (5.9.4)\n",
      "Requirement already satisfied: tornado>=6.1 in /Users/james/Library/Python/3.10/lib/python/site-packages (from ipykernel>=4.5.1->ipywidgets>=7.0.0->cufflinks) (6.2)\n",
      "Requirement already satisfied: parso<0.9.0,>=0.8.0 in /Users/james/Library/Python/3.10/lib/python/site-packages (from jedi>=0.16->ipython>=5.3.0->cufflinks) (0.8.3)\n",
      "Requirement already satisfied: ptyprocess>=0.5 in /Users/james/Library/Python/3.10/lib/python/site-packages (from pexpect>4.3->ipython>=5.3.0->cufflinks) (0.7.0)\n",
      "Requirement already satisfied: wcwidth in /Users/james/Library/Python/3.10/lib/python/site-packages (from prompt-toolkit<3.1.0,>=3.0.11->ipython>=5.3.0->cufflinks) (0.2.5)\n",
      "Requirement already satisfied: asttokens>=2.1.0 in /Users/james/Library/Python/3.10/lib/python/site-packages (from stack-data->ipython>=5.3.0->cufflinks) (2.2.0)\n",
      "Requirement already satisfied: executing>=1.2.0 in /Users/james/Library/Python/3.10/lib/python/site-packages (from stack-data->ipython>=5.3.0->cufflinks) (1.2.0)\n",
      "Requirement already satisfied: pure-eval in /Users/james/Library/Python/3.10/lib/python/site-packages (from stack-data->ipython>=5.3.0->cufflinks) (0.2.2)\n",
      "Requirement already satisfied: entrypoints in /Users/james/Library/Python/3.10/lib/python/site-packages (from jupyter-client>=6.1.12->ipykernel>=4.5.1->ipywidgets>=7.0.0->cufflinks) (0.4)\n",
      "Requirement already satisfied: jupyter-core>=4.9.2 in /Users/james/Library/Python/3.10/lib/python/site-packages (from jupyter-client>=6.1.12->ipykernel>=4.5.1->ipywidgets>=7.0.0->cufflinks) (5.1.0)\n",
      "Requirement already satisfied: pyparsing!=3.0.5,>=2.0.2 in /Users/james/Library/Python/3.10/lib/python/site-packages (from packaging->ipykernel>=4.5.1->ipywidgets>=7.0.0->cufflinks) (3.0.9)\n",
      "Requirement already satisfied: platformdirs>=2.5 in /Library/Frameworks/Python.framework/Versions/3.10/lib/python3.10/site-packages (from jupyter-core>=4.9.2->jupyter-client>=6.1.12->ipykernel>=4.5.1->ipywidgets>=7.0.0->cufflinks) (2.5.3)\n",
      "Requirement already satisfied: pyarrow in /Library/Frameworks/Python.framework/Versions/3.10/lib/python3.10/site-packages (10.0.1)\n",
      "Requirement already satisfied: numpy>=1.16.6 in /Library/Frameworks/Python.framework/Versions/3.10/lib/python3.10/site-packages (from pyarrow) (1.23.5)\n",
      "Requirement already satisfied: matplotlib in /Library/Frameworks/Python.framework/Versions/3.10/lib/python3.10/site-packages (3.6.2)\n",
      "Requirement already satisfied: pyparsing>=2.2.1 in /Users/james/Library/Python/3.10/lib/python/site-packages (from matplotlib) (3.0.9)\n",
      "Requirement already satisfied: kiwisolver>=1.0.1 in /Library/Frameworks/Python.framework/Versions/3.10/lib/python3.10/site-packages (from matplotlib) (1.4.4)\n",
      "Requirement already satisfied: python-dateutil>=2.7 in /Library/Frameworks/Python.framework/Versions/3.10/lib/python3.10/site-packages (from matplotlib) (2.8.2)\n",
      "Requirement already satisfied: cycler>=0.10 in /Library/Frameworks/Python.framework/Versions/3.10/lib/python3.10/site-packages (from matplotlib) (0.11.0)\n",
      "Requirement already satisfied: pillow>=6.2.0 in /Library/Frameworks/Python.framework/Versions/3.10/lib/python3.10/site-packages (from matplotlib) (9.3.0)\n",
      "Requirement already satisfied: packaging>=20.0 in /Users/james/Library/Python/3.10/lib/python/site-packages (from matplotlib) (21.3)\n",
      "Requirement already satisfied: fonttools>=4.22.0 in /Library/Frameworks/Python.framework/Versions/3.10/lib/python3.10/site-packages (from matplotlib) (4.38.0)\n",
      "Requirement already satisfied: numpy>=1.19 in /Library/Frameworks/Python.framework/Versions/3.10/lib/python3.10/site-packages (from matplotlib) (1.23.5)\n",
      "Requirement already satisfied: contourpy>=1.0.1 in /Library/Frameworks/Python.framework/Versions/3.10/lib/python3.10/site-packages (from matplotlib) (1.0.6)\n",
      "Requirement already satisfied: six>=1.5 in /Library/Frameworks/Python.framework/Versions/3.10/lib/python3.10/site-packages (from python-dateutil>=2.7->matplotlib) (1.16.0)\n"
     ]
    }
   ],
   "source": [
    "!pip install numpy\n",
    "!pip install pandas\n",
    "!pip install scipy\n",
    "!pip install plotly\n",
    "!pip install cufflinks\n",
    "!pip install pyarrow\n",
    "!pip install matplotlib"
   ]
  },
  {
   "cell_type": "markdown",
   "metadata": {},
   "source": [
    "These are the other imports will use. "
   ]
  },
  {
   "cell_type": "code",
   "execution_count": 3,
   "metadata": {
    "ExecuteTime": {
     "end_time": "2019-02-11T21:59:16.649010Z",
     "start_time": "2019-02-11T21:59:15.252863Z"
    }
   },
   "outputs": [
    {
     "data": {
      "text/html": [
       "        <script type=\"text/javascript\">\n",
       "        window.PlotlyConfig = {MathJaxConfig: 'local'};\n",
       "        if (window.MathJax && window.MathJax.Hub && window.MathJax.Hub.Config) {window.MathJax.Hub.Config({SVG: {font: \"STIX-Web\"}});}\n",
       "        if (typeof require !== 'undefined') {\n",
       "        require.undef(\"plotly\");\n",
       "        requirejs.config({\n",
       "            paths: {\n",
       "                'plotly': ['https://cdn.plot.ly/plotly-2.16.1.min']\n",
       "            }\n",
       "        });\n",
       "        require(['plotly'], function(Plotly) {\n",
       "            window._Plotly = Plotly;\n",
       "        });\n",
       "        }\n",
       "        </script>\n",
       "        "
      ]
     },
     "metadata": {},
     "output_type": "display_data"
    },
    {
     "data": {
      "text/html": [
       "        <script type=\"text/javascript\">\n",
       "        window.PlotlyConfig = {MathJaxConfig: 'local'};\n",
       "        if (window.MathJax && window.MathJax.Hub && window.MathJax.Hub.Config) {window.MathJax.Hub.Config({SVG: {font: \"STIX-Web\"}});}\n",
       "        if (typeof require !== 'undefined') {\n",
       "        require.undef(\"plotly\");\n",
       "        requirejs.config({\n",
       "            paths: {\n",
       "                'plotly': ['https://cdn.plot.ly/plotly-2.16.1.min']\n",
       "            }\n",
       "        });\n",
       "        require(['plotly'], function(Plotly) {\n",
       "            window._Plotly = Plotly;\n",
       "        });\n",
       "        }\n",
       "        </script>\n",
       "        "
      ]
     },
     "metadata": {},
     "output_type": "display_data"
    }
   ],
   "source": [
    "# Standard Data Science Helpers\n",
    "import numpy as np\n",
    "import pandas as pd\n",
    "import scipy\n",
    "\n",
    "#import chart_studio.plotly as py\n",
    "import plotly.graph_objs as go\n",
    "from plotly.offline import iplot, init_notebook_mode\n",
    "init_notebook_mode(connected=True)\n",
    "\n",
    "import cufflinks as cf\n",
    "cf.go_offline(connected=True)\n",
    "cf.set_config_file(colorscale='plotly', world_readable=True)\n",
    "\n",
    "# Extra options\n",
    "pd.options.display.max_rows = 30\n",
    "pd.options.display.max_columns = 25\n",
    "\n",
    "# Show all code cells outputs\n",
    "from IPython.core.interactiveshell import InteractiveShell\n",
    "InteractiveShell.ast_node_interactivity = 'all'"
   ]
  },
  {
   "cell_type": "code",
   "execution_count": 4,
   "metadata": {
    "ExecuteTime": {
     "end_time": "2019-02-11T21:59:16.677478Z",
     "start_time": "2019-02-11T21:59:16.650547Z"
    }
   },
   "outputs": [],
   "source": [
    "import os\n",
    "from IPython.display import Image, display, HTML"
   ]
  },
  {
   "attachments": {},
   "cell_type": "markdown",
   "metadata": {},
   "source": [
    "## Data\n",
    "\n",
    "For this project, we'll work with my medium stats data. You can grab your own data or just use mine! "
   ]
  },
  {
   "cell_type": "code",
   "execution_count": 5,
   "metadata": {},
   "outputs": [
    {
     "data": {
      "text/html": [
       "<div>\n",
       "<style scoped>\n",
       "    .dataframe tbody tr th:only-of-type {\n",
       "        vertical-align: middle;\n",
       "    }\n",
       "\n",
       "    .dataframe tbody tr th {\n",
       "        vertical-align: top;\n",
       "    }\n",
       "\n",
       "    .dataframe thead th {\n",
       "        text-align: right;\n",
       "    }\n",
       "</style>\n",
       "<table border=\"1\" class=\"dataframe\">\n",
       "  <thead>\n",
       "    <tr style=\"text-align: right;\">\n",
       "      <th></th>\n",
       "      <th>claps</th>\n",
       "      <th>days_since_publication</th>\n",
       "      <th>fans</th>\n",
       "      <th>link</th>\n",
       "      <th>num_responses</th>\n",
       "      <th>publication</th>\n",
       "      <th>published_date</th>\n",
       "      <th>read_ratio</th>\n",
       "      <th>read_time</th>\n",
       "      <th>reads</th>\n",
       "      <th>started_date</th>\n",
       "      <th>tags</th>\n",
       "      <th>text</th>\n",
       "      <th>title</th>\n",
       "      <th>title_word_count</th>\n",
       "      <th>type</th>\n",
       "      <th>views</th>\n",
       "      <th>word_count</th>\n",
       "      <th>claps_per_word</th>\n",
       "      <th>editing_days</th>\n",
       "      <th>&lt;tag&gt;Education</th>\n",
       "      <th>&lt;tag&gt;Data Science</th>\n",
       "      <th>&lt;tag&gt;Towards Data Science</th>\n",
       "      <th>&lt;tag&gt;Machine Learning</th>\n",
       "      <th>&lt;tag&gt;Python</th>\n",
       "    </tr>\n",
       "  </thead>\n",
       "  <tbody>\n",
       "    <tr>\n",
       "      <th>129</th>\n",
       "      <td>2</td>\n",
       "      <td>597.301123</td>\n",
       "      <td>2</td>\n",
       "      <td>https://medium.com/p/screw-the-environment-but...</td>\n",
       "      <td>0</td>\n",
       "      <td>None</td>\n",
       "      <td>2017-06-10 14:25:00</td>\n",
       "      <td>42.17</td>\n",
       "      <td>7</td>\n",
       "      <td>70</td>\n",
       "      <td>2017-06-10 14:24:00</td>\n",
       "      <td>[Climate Change, Economics]</td>\n",
       "      <td>Screw the Environment, but Consider Your Walle...</td>\n",
       "      <td>Screw the Environment, but Consider Your Wallet</td>\n",
       "      <td>8</td>\n",
       "      <td>published</td>\n",
       "      <td>166</td>\n",
       "      <td>1859</td>\n",
       "      <td>0.001076</td>\n",
       "      <td>0</td>\n",
       "      <td>0</td>\n",
       "      <td>0</td>\n",
       "      <td>0</td>\n",
       "      <td>0</td>\n",
       "      <td>0</td>\n",
       "    </tr>\n",
       "    <tr>\n",
       "      <th>125</th>\n",
       "      <td>18</td>\n",
       "      <td>589.983168</td>\n",
       "      <td>3</td>\n",
       "      <td>https://medium.com/p/the-vanquishing-of-war-pl...</td>\n",
       "      <td>0</td>\n",
       "      <td>None</td>\n",
       "      <td>2017-06-17 22:02:00</td>\n",
       "      <td>30.34</td>\n",
       "      <td>14</td>\n",
       "      <td>54</td>\n",
       "      <td>2017-06-17 22:02:00</td>\n",
       "      <td>[Climate Change, Humanity, Optimism, History]</td>\n",
       "      <td>The Vanquishing of War, Plague and Famine Part...</td>\n",
       "      <td>The Vanquishing of War, Plague and Famine</td>\n",
       "      <td>8</td>\n",
       "      <td>published</td>\n",
       "      <td>178</td>\n",
       "      <td>3891</td>\n",
       "      <td>0.004626</td>\n",
       "      <td>0</td>\n",
       "      <td>0</td>\n",
       "      <td>0</td>\n",
       "      <td>0</td>\n",
       "      <td>0</td>\n",
       "      <td>0</td>\n",
       "    </tr>\n",
       "    <tr>\n",
       "      <th>132</th>\n",
       "      <td>51</td>\n",
       "      <td>577.363292</td>\n",
       "      <td>20</td>\n",
       "      <td>https://medium.com/p/capstone-project-mercedes...</td>\n",
       "      <td>0</td>\n",
       "      <td>None</td>\n",
       "      <td>2017-06-30 12:55:00</td>\n",
       "      <td>20.02</td>\n",
       "      <td>42</td>\n",
       "      <td>222</td>\n",
       "      <td>2017-06-30 12:00:00</td>\n",
       "      <td>[Machine Learning, Python, Udacity, Kaggle]</td>\n",
       "      <td>Capstone Project: Mercedes-Benz Greener Manufa...</td>\n",
       "      <td>Capstone Project: Mercedes-Benz Greener Manufa...</td>\n",
       "      <td>7</td>\n",
       "      <td>published</td>\n",
       "      <td>1109</td>\n",
       "      <td>12025</td>\n",
       "      <td>0.004241</td>\n",
       "      <td>0</td>\n",
       "      <td>0</td>\n",
       "      <td>0</td>\n",
       "      <td>0</td>\n",
       "      <td>1</td>\n",
       "      <td>1</td>\n",
       "    </tr>\n",
       "    <tr>\n",
       "      <th>126</th>\n",
       "      <td>0</td>\n",
       "      <td>576.520688</td>\n",
       "      <td>0</td>\n",
       "      <td>https://medium.com/p/home-of-the-scared-5af0fe...</td>\n",
       "      <td>0</td>\n",
       "      <td>None</td>\n",
       "      <td>2017-07-01 09:08:00</td>\n",
       "      <td>35.85</td>\n",
       "      <td>9</td>\n",
       "      <td>19</td>\n",
       "      <td>2017-06-30 18:21:00</td>\n",
       "      <td>[Politics, Books, News, Media Criticism]</td>\n",
       "      <td>Home of the Scared A review of A Culture of Fe...</td>\n",
       "      <td>Home of the Scared</td>\n",
       "      <td>4</td>\n",
       "      <td>published</td>\n",
       "      <td>53</td>\n",
       "      <td>2533</td>\n",
       "      <td>0.000000</td>\n",
       "      <td>0</td>\n",
       "      <td>0</td>\n",
       "      <td>0</td>\n",
       "      <td>0</td>\n",
       "      <td>0</td>\n",
       "      <td>0</td>\n",
       "    </tr>\n",
       "    <tr>\n",
       "      <th>121</th>\n",
       "      <td>0</td>\n",
       "      <td>572.533035</td>\n",
       "      <td>0</td>\n",
       "      <td>https://medium.com/p/the-triumph-of-peace-f485...</td>\n",
       "      <td>0</td>\n",
       "      <td>None</td>\n",
       "      <td>2017-07-05 08:51:00</td>\n",
       "      <td>8.47</td>\n",
       "      <td>14</td>\n",
       "      <td>5</td>\n",
       "      <td>2017-07-03 20:18:00</td>\n",
       "      <td>[Books, Psychology, History, Humanism]</td>\n",
       "      <td>The Triumph of Peace A review of The Better An...</td>\n",
       "      <td>The Triumph of Peace</td>\n",
       "      <td>4</td>\n",
       "      <td>published</td>\n",
       "      <td>59</td>\n",
       "      <td>3892</td>\n",
       "      <td>0.000000</td>\n",
       "      <td>1</td>\n",
       "      <td>0</td>\n",
       "      <td>0</td>\n",
       "      <td>0</td>\n",
       "      <td>0</td>\n",
       "      <td>0</td>\n",
       "    </tr>\n",
       "  </tbody>\n",
       "</table>\n",
       "</div>"
      ],
      "text/plain": [
       "     claps  days_since_publication  fans  \\\n",
       "129      2              597.301123     2   \n",
       "125     18              589.983168     3   \n",
       "132     51              577.363292    20   \n",
       "126      0              576.520688     0   \n",
       "121      0              572.533035     0   \n",
       "\n",
       "                                                  link  num_responses  \\\n",
       "129  https://medium.com/p/screw-the-environment-but...              0   \n",
       "125  https://medium.com/p/the-vanquishing-of-war-pl...              0   \n",
       "132  https://medium.com/p/capstone-project-mercedes...              0   \n",
       "126  https://medium.com/p/home-of-the-scared-5af0fe...              0   \n",
       "121  https://medium.com/p/the-triumph-of-peace-f485...              0   \n",
       "\n",
       "    publication      published_date  read_ratio  read_time  reads  \\\n",
       "129        None 2017-06-10 14:25:00       42.17          7     70   \n",
       "125        None 2017-06-17 22:02:00       30.34         14     54   \n",
       "132        None 2017-06-30 12:55:00       20.02         42    222   \n",
       "126        None 2017-07-01 09:08:00       35.85          9     19   \n",
       "121        None 2017-07-05 08:51:00        8.47         14      5   \n",
       "\n",
       "           started_date                                           tags  \\\n",
       "129 2017-06-10 14:24:00                    [Climate Change, Economics]   \n",
       "125 2017-06-17 22:02:00  [Climate Change, Humanity, Optimism, History]   \n",
       "132 2017-06-30 12:00:00    [Machine Learning, Python, Udacity, Kaggle]   \n",
       "126 2017-06-30 18:21:00       [Politics, Books, News, Media Criticism]   \n",
       "121 2017-07-03 20:18:00         [Books, Psychology, History, Humanism]   \n",
       "\n",
       "                                                  text  \\\n",
       "129  Screw the Environment, but Consider Your Walle...   \n",
       "125  The Vanquishing of War, Plague and Famine Part...   \n",
       "132  Capstone Project: Mercedes-Benz Greener Manufa...   \n",
       "126  Home of the Scared A review of A Culture of Fe...   \n",
       "121  The Triumph of Peace A review of The Better An...   \n",
       "\n",
       "                                                 title  title_word_count  \\\n",
       "129    Screw the Environment, but Consider Your Wallet                 8   \n",
       "125          The Vanquishing of War, Plague and Famine                 8   \n",
       "132  Capstone Project: Mercedes-Benz Greener Manufa...                 7   \n",
       "126                                 Home of the Scared                 4   \n",
       "121                               The Triumph of Peace                 4   \n",
       "\n",
       "          type  views  word_count  claps_per_word  editing_days  \\\n",
       "129  published    166        1859        0.001076             0   \n",
       "125  published    178        3891        0.004626             0   \n",
       "132  published   1109       12025        0.004241             0   \n",
       "126  published     53        2533        0.000000             0   \n",
       "121  published     59        3892        0.000000             1   \n",
       "\n",
       "     <tag>Education  <tag>Data Science  <tag>Towards Data Science  \\\n",
       "129               0                  0                          0   \n",
       "125               0                  0                          0   \n",
       "132               0                  0                          0   \n",
       "126               0                  0                          0   \n",
       "121               0                  0                          0   \n",
       "\n",
       "     <tag>Machine Learning  <tag>Python  \n",
       "129                      0            0  \n",
       "125                      0            0  \n",
       "132                      1            1  \n",
       "126                      0            0  \n",
       "121                      0            0  "
      ]
     },
     "execution_count": 5,
     "metadata": {},
     "output_type": "execute_result"
    }
   ],
   "source": [
    "df = pd.read_parquet(\"https://github.com/Archana-blog/notebooks/blob/6963e561905bf15daa3a87f1ecae87cda8481699/data?raw=true\", engine='pyarrow')\n",
    "df.head()"
   ]
  },
  {
   "cell_type": "code",
   "execution_count": 6,
   "metadata": {
    "ExecuteTime": {
     "end_time": "2019-02-11T21:59:17.847235Z",
     "start_time": "2019-02-11T21:59:17.741021Z"
    }
   },
   "outputs": [
    {
     "data": {
      "text/html": [
       "<div>\n",
       "<style scoped>\n",
       "    .dataframe tbody tr th:only-of-type {\n",
       "        vertical-align: middle;\n",
       "    }\n",
       "\n",
       "    .dataframe tbody tr th {\n",
       "        vertical-align: top;\n",
       "    }\n",
       "\n",
       "    .dataframe thead th {\n",
       "        text-align: right;\n",
       "    }\n",
       "</style>\n",
       "<table border=\"1\" class=\"dataframe\">\n",
       "  <thead>\n",
       "    <tr style=\"text-align: right;\">\n",
       "      <th></th>\n",
       "      <th>claps</th>\n",
       "      <th>days_since_publication</th>\n",
       "      <th>fans</th>\n",
       "      <th>num_responses</th>\n",
       "      <th>read_ratio</th>\n",
       "      <th>read_time</th>\n",
       "      <th>reads</th>\n",
       "      <th>title_word_count</th>\n",
       "      <th>views</th>\n",
       "      <th>word_count</th>\n",
       "      <th>claps_per_word</th>\n",
       "      <th>editing_days</th>\n",
       "      <th>&lt;tag&gt;Education</th>\n",
       "      <th>&lt;tag&gt;Data Science</th>\n",
       "      <th>&lt;tag&gt;Towards Data Science</th>\n",
       "      <th>&lt;tag&gt;Machine Learning</th>\n",
       "      <th>&lt;tag&gt;Python</th>\n",
       "    </tr>\n",
       "  </thead>\n",
       "  <tbody>\n",
       "    <tr>\n",
       "      <th>count</th>\n",
       "      <td>133.000000</td>\n",
       "      <td>133.000000</td>\n",
       "      <td>133.000000</td>\n",
       "      <td>133.000000</td>\n",
       "      <td>133.000000</td>\n",
       "      <td>133.000000</td>\n",
       "      <td>133.000000</td>\n",
       "      <td>133.000000</td>\n",
       "      <td>133.000000</td>\n",
       "      <td>133.000000</td>\n",
       "      <td>133.000000</td>\n",
       "      <td>133.000000</td>\n",
       "      <td>133.000000</td>\n",
       "      <td>133.000000</td>\n",
       "      <td>133.000000</td>\n",
       "      <td>133.000000</td>\n",
       "      <td>133.000000</td>\n",
       "    </tr>\n",
       "    <tr>\n",
       "      <th>mean</th>\n",
       "      <td>1815.263158</td>\n",
       "      <td>248.407273</td>\n",
       "      <td>352.052632</td>\n",
       "      <td>7.045113</td>\n",
       "      <td>29.074662</td>\n",
       "      <td>12.917293</td>\n",
       "      <td>6336.300752</td>\n",
       "      <td>7.127820</td>\n",
       "      <td>23404.030075</td>\n",
       "      <td>3029.120301</td>\n",
       "      <td>0.957638</td>\n",
       "      <td>20.330827</td>\n",
       "      <td>0.729323</td>\n",
       "      <td>0.609023</td>\n",
       "      <td>0.436090</td>\n",
       "      <td>0.383459</td>\n",
       "      <td>0.315789</td>\n",
       "    </tr>\n",
       "    <tr>\n",
       "      <th>std</th>\n",
       "      <td>2449.074661</td>\n",
       "      <td>179.370879</td>\n",
       "      <td>479.060117</td>\n",
       "      <td>9.056108</td>\n",
       "      <td>12.417670</td>\n",
       "      <td>9.510795</td>\n",
       "      <td>9007.284726</td>\n",
       "      <td>3.158475</td>\n",
       "      <td>33995.636496</td>\n",
       "      <td>2393.414456</td>\n",
       "      <td>1.846756</td>\n",
       "      <td>74.111579</td>\n",
       "      <td>0.445989</td>\n",
       "      <td>0.489814</td>\n",
       "      <td>0.497774</td>\n",
       "      <td>0.488067</td>\n",
       "      <td>0.466587</td>\n",
       "    </tr>\n",
       "    <tr>\n",
       "      <th>min</th>\n",
       "      <td>0.000000</td>\n",
       "      <td>1.218629</td>\n",
       "      <td>0.000000</td>\n",
       "      <td>0.000000</td>\n",
       "      <td>8.110000</td>\n",
       "      <td>1.000000</td>\n",
       "      <td>1.000000</td>\n",
       "      <td>2.000000</td>\n",
       "      <td>3.000000</td>\n",
       "      <td>163.000000</td>\n",
       "      <td>0.000000</td>\n",
       "      <td>-13.000000</td>\n",
       "      <td>0.000000</td>\n",
       "      <td>0.000000</td>\n",
       "      <td>0.000000</td>\n",
       "      <td>0.000000</td>\n",
       "      <td>0.000000</td>\n",
       "    </tr>\n",
       "    <tr>\n",
       "      <th>25%</th>\n",
       "      <td>121.000000</td>\n",
       "      <td>74.543822</td>\n",
       "      <td>23.000000</td>\n",
       "      <td>0.000000</td>\n",
       "      <td>20.020000</td>\n",
       "      <td>8.000000</td>\n",
       "      <td>363.000000</td>\n",
       "      <td>5.000000</td>\n",
       "      <td>1375.000000</td>\n",
       "      <td>1653.000000</td>\n",
       "      <td>0.052115</td>\n",
       "      <td>0.000000</td>\n",
       "      <td>0.000000</td>\n",
       "      <td>0.000000</td>\n",
       "      <td>0.000000</td>\n",
       "      <td>0.000000</td>\n",
       "      <td>0.000000</td>\n",
       "    </tr>\n",
       "    <tr>\n",
       "      <th>50%</th>\n",
       "      <td>815.000000</td>\n",
       "      <td>245.416130</td>\n",
       "      <td>136.000000</td>\n",
       "      <td>4.000000</td>\n",
       "      <td>27.060000</td>\n",
       "      <td>10.000000</td>\n",
       "      <td>2049.000000</td>\n",
       "      <td>7.000000</td>\n",
       "      <td>7608.000000</td>\n",
       "      <td>2456.000000</td>\n",
       "      <td>0.421525</td>\n",
       "      <td>1.000000</td>\n",
       "      <td>1.000000</td>\n",
       "      <td>1.000000</td>\n",
       "      <td>0.000000</td>\n",
       "      <td>0.000000</td>\n",
       "      <td>0.000000</td>\n",
       "    </tr>\n",
       "    <tr>\n",
       "      <th>75%</th>\n",
       "      <td>2700.000000</td>\n",
       "      <td>376.080598</td>\n",
       "      <td>528.000000</td>\n",
       "      <td>12.000000</td>\n",
       "      <td>34.910000</td>\n",
       "      <td>14.000000</td>\n",
       "      <td>7815.000000</td>\n",
       "      <td>8.000000</td>\n",
       "      <td>30141.000000</td>\n",
       "      <td>3553.000000</td>\n",
       "      <td>1.099366</td>\n",
       "      <td>5.000000</td>\n",
       "      <td>1.000000</td>\n",
       "      <td>1.000000</td>\n",
       "      <td>1.000000</td>\n",
       "      <td>1.000000</td>\n",
       "      <td>1.000000</td>\n",
       "    </tr>\n",
       "    <tr>\n",
       "      <th>max</th>\n",
       "      <td>13600.000000</td>\n",
       "      <td>597.301123</td>\n",
       "      <td>2588.000000</td>\n",
       "      <td>59.000000</td>\n",
       "      <td>74.370000</td>\n",
       "      <td>54.000000</td>\n",
       "      <td>41978.000000</td>\n",
       "      <td>16.000000</td>\n",
       "      <td>173714.000000</td>\n",
       "      <td>15063.000000</td>\n",
       "      <td>17.891817</td>\n",
       "      <td>349.000000</td>\n",
       "      <td>1.000000</td>\n",
       "      <td>1.000000</td>\n",
       "      <td>1.000000</td>\n",
       "      <td>1.000000</td>\n",
       "      <td>1.000000</td>\n",
       "    </tr>\n",
       "  </tbody>\n",
       "</table>\n",
       "</div>"
      ],
      "text/plain": [
       "              claps  days_since_publication         fans  num_responses  \\\n",
       "count    133.000000              133.000000   133.000000     133.000000   \n",
       "mean    1815.263158              248.407273   352.052632       7.045113   \n",
       "std     2449.074661              179.370879   479.060117       9.056108   \n",
       "min        0.000000                1.218629     0.000000       0.000000   \n",
       "25%      121.000000               74.543822    23.000000       0.000000   \n",
       "50%      815.000000              245.416130   136.000000       4.000000   \n",
       "75%     2700.000000              376.080598   528.000000      12.000000   \n",
       "max    13600.000000              597.301123  2588.000000      59.000000   \n",
       "\n",
       "       read_ratio   read_time         reads  title_word_count          views  \\\n",
       "count  133.000000  133.000000    133.000000        133.000000     133.000000   \n",
       "mean    29.074662   12.917293   6336.300752          7.127820   23404.030075   \n",
       "std     12.417670    9.510795   9007.284726          3.158475   33995.636496   \n",
       "min      8.110000    1.000000      1.000000          2.000000       3.000000   \n",
       "25%     20.020000    8.000000    363.000000          5.000000    1375.000000   \n",
       "50%     27.060000   10.000000   2049.000000          7.000000    7608.000000   \n",
       "75%     34.910000   14.000000   7815.000000          8.000000   30141.000000   \n",
       "max     74.370000   54.000000  41978.000000         16.000000  173714.000000   \n",
       "\n",
       "         word_count  claps_per_word  editing_days  <tag>Education  \\\n",
       "count    133.000000      133.000000    133.000000      133.000000   \n",
       "mean    3029.120301        0.957638     20.330827        0.729323   \n",
       "std     2393.414456        1.846756     74.111579        0.445989   \n",
       "min      163.000000        0.000000    -13.000000        0.000000   \n",
       "25%     1653.000000        0.052115      0.000000        0.000000   \n",
       "50%     2456.000000        0.421525      1.000000        1.000000   \n",
       "75%     3553.000000        1.099366      5.000000        1.000000   \n",
       "max    15063.000000       17.891817    349.000000        1.000000   \n",
       "\n",
       "       <tag>Data Science  <tag>Towards Data Science  <tag>Machine Learning  \\\n",
       "count         133.000000                 133.000000             133.000000   \n",
       "mean            0.609023                   0.436090               0.383459   \n",
       "std             0.489814                   0.497774               0.488067   \n",
       "min             0.000000                   0.000000               0.000000   \n",
       "25%             0.000000                   0.000000               0.000000   \n",
       "50%             1.000000                   0.000000               0.000000   \n",
       "75%             1.000000                   1.000000               1.000000   \n",
       "max             1.000000                   1.000000               1.000000   \n",
       "\n",
       "       <tag>Python  \n",
       "count   133.000000  \n",
       "mean      0.315789  \n",
       "std       0.466587  \n",
       "min       0.000000  \n",
       "25%       0.000000  \n",
       "50%       0.000000  \n",
       "75%       1.000000  \n",
       "max       1.000000  "
      ]
     },
     "execution_count": 6,
     "metadata": {},
     "output_type": "execute_result"
    }
   ],
   "source": [
    "df.describe()"
   ]
  },
  {
   "cell_type": "code",
   "execution_count": 7,
   "metadata": {
    "ExecuteTime": {
     "end_time": "2019-02-11T21:59:17.894781Z",
     "start_time": "2019-02-11T21:59:17.849710Z"
    }
   },
   "outputs": [],
   "source": [
    "import ipywidgets as widgets\n",
    "from ipywidgets import interact, interact_manual"
   ]
  },
  {
   "cell_type": "code",
   "execution_count": 9,
   "metadata": {
    "ExecuteTime": {
     "end_time": "2019-02-11T21:59:18.144261Z",
     "start_time": "2019-02-11T21:59:17.897741Z"
    }
   },
   "outputs": [
    {
     "data": {
      "application/vnd.jupyter.widget-view+json": {
       "model_id": "c10a81b2484a4082bba037a878fd0b68",
       "version_major": 2,
       "version_minor": 0
      },
      "text/plain": [
       "interactive(children=(Text(value='claps', description='column'), IntSlider(value=5000, description='x', max=15…"
      ]
     },
     "metadata": {},
     "output_type": "display_data"
    }
   ],
   "source": [
    "@interact\n",
    "def show_articles_more_than(column='claps', x=5000):\n",
    "    display(HTML(f'<h2>Showing articles with more than {x} {column}<h2>'))\n",
    "    display(df.loc[df[column] > x, ['title', 'published_date', 'read_time', 'tags', 'views', 'reads']])"
   ]
  },
  {
   "cell_type": "code",
   "execution_count": 10,
   "metadata": {},
   "outputs": [
    {
     "data": {
      "text/plain": [
       "<Figure size 640x480 with 0 Axes>"
      ]
     },
     "metadata": {},
     "output_type": "display_data"
    },
    {
     "data": {
      "image/png": "[encoded data removed]",
      "text/plain": [
       "<Figure size 640x480 with 1 Axes>"
      ]
     },
     "metadata": {},
     "output_type": "display_data"
    }
   ],
   "source": [
    "import matplotlib.pyplot as plt\n",
    "\n",
    "ts = pd.Series(np.random.randn(1000), index=pd.date_range(\"1/1/2000\", periods=1000))\n",
    "df = pd.DataFrame(np.random.randn(1000, 4), index=ts.index, columns=list(\"ABCD\"))\n",
    "\n",
    "df = df.cumsum()\n",
    "plt.figure();\n",
    "df.plot();"
   ]
  },
  {
   "cell_type": "markdown",
   "metadata": {},
   "source": [
    "# Correlation"
   ]
  },
  {
   "cell_type": "code",
   "execution_count": 12,
   "metadata": {
    "ExecuteTime": {
     "end_time": "2019-02-11T21:59:18.734969Z",
     "start_time": "2019-02-11T21:59:18.683939Z"
    }
   },
   "outputs": [
    {
     "data": {
      "application/vnd.jupyter.widget-view+json": {
       "model_id": "cddd3ac3e5ac48ca8fc9fa838a43e87a",
       "version_major": 2,
       "version_minor": 0
      },
      "text/plain": [
       "interactive(children=(Dropdown(description='column1', options=('A', 'B', 'C', 'D'), value='A'), Dropdown(descr…"
      ]
     },
     "metadata": {},
     "output_type": "display_data"
    }
   ],
   "source": [
    "@interact\n",
    "def correlations(column1=list(df.select_dtypes('number').columns), \n",
    "                 column2=list(df.select_dtypes('number').columns)):\n",
    "    print(f\"Correlation: {df[column1].corr(df[column2])}\")"
   ]
  },
  {
   "cell_type": "markdown",
   "metadata": {},
   "source": [
    "# Interactive Widgets for Plots"
   ]
  },
  {
   "cell_type": "code",
   "execution_count": 13,
   "metadata": {
    "ExecuteTime": {
     "end_time": "2019-02-11T21:59:19.742380Z",
     "start_time": "2019-02-11T21:59:18.736434Z"
    },
    "scrolled": true
   },
   "outputs": [
    {
     "data": {
      "application/vnd.jupyter.widget-view+json": {
       "model_id": "5d7e50941d8b45569c44d7f2832d0e9a",
       "version_major": 2,
       "version_minor": 0
      },
      "text/plain": [
       "interactive(children=(Dropdown(description='x', options=('A', 'B', 'C', 'D'), value='A'), Dropdown(description…"
      ]
     },
     "metadata": {},
     "output_type": "display_data"
    }
   ],
   "source": [
    "@interact\n",
    "def scatter_plot(x=list(df.select_dtypes('number').columns), \n",
    "                 y=list(df.select_dtypes('number').columns)[1:]):\n",
    "    df.iplot(kind='scatter', x=x, y=y, mode='markers', \n",
    "             xTitle=x.title(), yTitle=y.title(), title=f'{y.title()} vs {x.title()}')\n"
   ]
  },
  {
   "cell_type": "markdown",
   "metadata": {},
   "source": [
    "#Heatmaps"
   ]
  },
  {
   "cell_type": "code",
   "execution_count": 14,
   "metadata": {},
   "outputs": [
    {
     "name": "stderr",
     "output_type": "stream",
     "text": [
      "/var/folders/yv/c7tc1dg15rd865p3r_ydkfr80000gn/T/ipykernel_6184/3959832361.py:6: DeprecationWarning:\n",
      "\n",
      "on_submit is deprecated. Instead, set the .continuous_update attribute to False and observe the value changing with: mywidget.observe(callback, 'value').\n",
      "\n"
     ]
    },
    {
     "data": {
      "application/vnd.jupyter.widget-view+json": {
       "model_id": "2c9fe10626ff4a87b775e3fd457a2509",
       "version_major": 2,
       "version_minor": 0
      },
      "text/plain": [
       "interactive(children=(Text(value='RdBu', description='colorscale'), Button(description='Run Interact', style=B…"
      ]
     },
     "metadata": {},
     "output_type": "display_data"
    }
   ],
   "source": [
    "import plotly.figure_factory as ff\n",
    "\n",
    "corrs = df.corr()\n",
    "\n",
    "@interact_manual\n",
    "def plot_corrs(colorscale='RdBu'):\n",
    "    figure = ff.create_annotated_heatmap(z = corrs.round(2).values, \n",
    "                                     x =list(corrs.columns), \n",
    "                                     y=list(corrs.index), \n",
    "                                     colorscale=colorscale,\n",
    "                                     annotation_text=corrs.round(2).values)\n",
    "    iplot(figure)"
   ]
  },
  {
   "cell_type": "code",
   "execution_count": null,
   "metadata": {},
   "outputs": [],
   "source": []
  }
 ],
 "metadata": {
  "hide_input": false,
  "kernelspec": {
   "display_name": "Python 3 (ipykernel)",
   "language": "python",
   "name": "python3"
  },
  "language_info": {
   "codemirror_mode": {
    "name": "ipython",
    "version": 3
   },
   "file_extension": ".py",
   "mimetype": "text/x-python",
   "name": "python",
   "nbconvert_exporter": "python",
   "pygments_lexer": "ipython3",
   "version": "3.10.5"
  },
  "toc": {
   "base_numbering": 1,
   "nav_menu": {},
   "number_sections": true,
   "sideBar": true,
   "skip_h1_title": false,
   "title_cell": "Table of Contents",
   "title_sidebar": "Contents",
   "toc_cell": false,
   "toc_position": {},
   "toc_section_display": true,
   "toc_window_display": false
  },
  "varInspector": {
   "cols": {
    "lenName": 16,
    "lenType": 16,
    "lenVar": 40
   },
   "kernels_config": {
    "python": {
     "delete_cmd_postfix": "",
     "delete_cmd_prefix": "del ",
     "library": "var_list.py",
     "varRefreshCmd": "print(var_dic_list())"
    },
    "r": {
     "delete_cmd_postfix": ") ",
     "delete_cmd_prefix": "rm(",
     "library": "var_list.r",
     "varRefreshCmd": "cat(var_dic_list()) "
    }
   },
   "types_to_exclude": [
    "module",
    "function",
    "builtin_function_or_method",
    "instance",
    "_Feature"
   ],
   "window_display": false
  }
 },
 "nbformat": 4,
 "nbformat_minor": 4
}
